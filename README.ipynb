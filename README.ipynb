{
 "cells": [
  {
   "cell_type": "markdown",
   "metadata": {},
   "source": [
    "# CamTrapML\n",
    "\n",
    "> Suite of machine learning models for the detection and classification and analysis of camera trap imagery.\n",
    "\n",
    "## Installation\n",
    "\n",
    "    $ pip install camtrapml"
   ]
  },
  {
   "cell_type": "markdown",
   "metadata": {},
   "source": [
    "## Features"
   ]
  },
  {
   "cell_type": "markdown",
   "metadata": {},
   "source": [
    "### Dataset Loader"
   ]
  },
  {
   "cell_type": "code",
   "execution_count": null,
   "metadata": {},
   "outputs": [],
   "source": [
    "from camtrapml.dataset import Dataset\n",
    "from camtrapml.image.utils import load_image, thumbnail\n",
    "\n",
    "ena24 = Dataset(\n",
    "    name=\"ena24\",\n",
    "    path=\"~/Datasets/ena24\",\n",
    ")\n",
    "\n",
    "ena24_image_paths = list(ena24.enumerate_images())\n",
    "\n",
    "thumbnail(load_image(ena24_image_paths[0]))"
   ]
  },
  {
   "cell_type": "markdown",
   "metadata": {},
   "source": [
    "### Detection"
   ]
  },
  {
   "cell_type": "code",
   "execution_count": null,
   "metadata": {},
   "outputs": [],
   "source": [
    "from camtrapml.detection.models.megadetector import MegaDetectorV4_1\n",
    "from camtrapml.detection.utils import render_detections\n",
    "\n",
    "with MegaDetectorV4_1() as detector:\n",
    "    detections = detector.detect(ena24_image_paths[0])\n",
    "\n",
    "thumbnail(\n",
    "    render_detections(\n",
    "        ena24_image_paths[0],\n",
    "        detections,\n",
    "        class_map=detector.classes\n",
    "    )\n",
    ")"
   ]
  },
  {
   "cell_type": "markdown",
   "metadata": {},
   "source": []
  }
 ],
 "metadata": {
  "interpreter": {
   "hash": "52ee2977380704a66854748a73250e0671a9318bd5b3fd45a3df9f851ae61629"
  },
  "kernelspec": {
   "display_name": "Python 3.9.0 ('tf')",
   "language": "python",
   "name": "python3"
  },
  "language_info": {
   "codemirror_mode": {
    "name": "ipython",
    "version": 3
   },
   "file_extension": ".py",
   "mimetype": "text/x-python",
   "name": "python",
   "nbconvert_exporter": "python",
   "pygments_lexer": "ipython3",
   "version": "3.9.0"
  },
  "orig_nbformat": 4
 },
 "nbformat": 4,
 "nbformat_minor": 2
}
