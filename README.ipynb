{
 "cells": [
  {
   "cell_type": "markdown",
   "metadata": {},
   "source": [
    "# CamTrapML\n",
    "\n",
    "> Suite of machine learning models for the detection and classification and analysis of camera trap imagery.\n",
    "\n",
    "## Installation\n",
    "\n",
    "    $ pip install camtrapml"
   ]
  },
  {
   "cell_type": "markdown",
   "metadata": {},
   "source": [
    "## Features"
   ]
  },
  {
   "cell_type": "markdown",
   "metadata": {},
   "source": [
    "### Loading Data\n",
    "\n",
    "Search for images in a directory, load an image and create a thumbnail."
   ]
  },
  {
   "cell_type": "code",
   "execution_count": null,
   "metadata": {},
   "outputs": [],
   "source": [
    "from camtrapml.dataset import Dataset\n",
    "from camtrapml.image.utils import load_image, thumbnail\n",
    "\n",
    "ena24 = Dataset(\n",
    "    name=\"ena24\",\n",
    "    path=\"~/Datasets/ena24/ena24\",\n",
    ")\n",
    "\n",
    "ena24_image_paths = list(ena24.enumerate_images())\n",
    "\n",
    "thumbnail(load_image(ena24_image_paths[0]))"
   ]
  },
  {
   "cell_type": "markdown",
   "metadata": {},
   "source": [
    "### EXIF Extraction\n",
    "\n",
    "Exif extraction is a common task in gathering the metadata such as each images timestamp, camera model, focal length, etc. as well as some researchers write labelling into the EXIF data. Although this package doesn't assist with writing to EXIF, it can be used to extract if for the purposes of analysis and building datasets for training from previously labelled images.\n",
    "\n",
    "ExifTool is required for this package to work. Installation instructions can be found [here](https://exiftool.org/install.html).\n"
   ]
  },
  {
   "cell_type": "code",
   "execution_count": null,
   "metadata": {},
   "outputs": [],
   "source": [
    "from camtrapml.image.exif import extract_multiple_exif\n",
    "\n",
    "exif = extract_multiple_exif(ena24_image_paths)"
   ]
  },
  {
   "cell_type": "code",
   "execution_count": null,
   "metadata": {},
   "outputs": [],
   "source": [
    "from camtrapml.image.exif import extract_multiple_exif_fast\n",
    "\n",
    "exif = extract_multiple_exif_fast(ena24_image_paths)\n",
    "exif[0]"
   ]
  },
  {
   "cell_type": "markdown",
   "metadata": {},
   "source": [
    "### Detection\n",
    "\n",
    "Various Detection models have been packaged up in the camtrapml.detection subpackage. These currently include MegaDetector (v4.1, v3 and v2) and support for loading in custom Tensorflow v1.x Object Detection Frozen models."
   ]
  },
  {
   "cell_type": "markdown",
   "metadata": {},
   "source": [
    "#### Detection with MegaDetector v4.1"
   ]
  },
  {
   "cell_type": "code",
   "execution_count": null,
   "metadata": {},
   "outputs": [],
   "source": [
    "from camtrapml.detection.models.megadetector import MegaDetectorV4_1\n",
    "from camtrapml.detection.utils import render_detections\n",
    "\n",
    "with MegaDetectorV4_1() as detector:\n",
    "    detections = detector.detect(ena24_image_paths[0])\n",
    "\n",
    "thumbnail(\n",
    "    render_detections(\n",
    "        ena24_image_paths[0],\n",
    "        detections,\n",
    "        class_map=detector.class_map\n",
    "    )\n",
    ")"
   ]
  },
  {
   "cell_type": "markdown",
   "metadata": {},
   "source": [
    "#### Detection with a custom Tensorflow v1.x Object Detection Frozen model"
   ]
  },
  {
   "cell_type": "code",
   "execution_count": null,
   "metadata": {},
   "outputs": [],
   "source": [
    "from camtrapml.detection.models.tensorflow import TF1ODAPIFrozenModel\n",
    "from camtrapml.detection.utils import render_detections\n",
    "from pathlib import Path\n",
    "\n",
    "with TF1ODAPIFrozenModel(\n",
    "    model_path=Path('~/Downloads/my-custom-model.pb').expanduser(),\n",
    "    model_image_tensor_name='image_tensor:0',\n",
    "    model_boxes_tensor_name='detection_boxes:0',\n",
    "    model_scores_tensor_name='detection_scores:0',\n",
    "    model_classes_tensor_name='detection_classes:0',\n",
    "    class_map={\n",
    "        1: \"animal\",\n",
    "    },\n",
    ") as detector:\n",
    "    detections = detector.detect(ena24_image_paths[1])\n",
    "\n",
    "thumbnail(\n",
    "    render_detections(\n",
    "        ena24_image_paths[1],\n",
    "        detections,\n",
    "        class_map=detector.class_map\n",
    "    )\n",
    ")"
   ]
  },
  {
   "cell_type": "code",
   "execution_count": null,
   "metadata": {},
   "outputs": [],
   "source": []
  }
 ],
 "metadata": {
  "interpreter": {
   "hash": "52ee2977380704a66854748a73250e0671a9318bd5b3fd45a3df9f851ae61629"
  },
  "kernelspec": {
   "display_name": "Python 3.9.0 ('tf')",
   "language": "python",
   "name": "python3"
  },
  "language_info": {
   "codemirror_mode": {
    "name": "ipython",
    "version": 3
   },
   "file_extension": ".py",
   "mimetype": "text/x-python",
   "name": "python",
   "nbconvert_exporter": "python",
   "pygments_lexer": "ipython3",
   "version": "3.9.0"
  },
  "orig_nbformat": 4
 },
 "nbformat": 4,
 "nbformat_minor": 2
}
